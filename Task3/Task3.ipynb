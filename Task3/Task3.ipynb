{
 "cells": [
  {
   "cell_type": "markdown",
   "id": "1c3e533b-3ed0-41c0-995f-e6d988f77bfa",
   "metadata": {},
   "source": [
    "## Task 3\n",
    "##  General Health Query Chatbot (Prompt Engineering Based) \n",
    "# Objective\n",
    "The objective of this task was to develop an AI-powered health chatbot capable of answering general health-related questions in a safe, friendly, and conversational manner. The chatbot aimed to provide helpful information while avoiding professional medical advice, ensuring responses remained educational and approachable.\n",
    "# Introduction\n",
    "This task involved creating a command-line based chatbot using the DeepSeek R1 large language model accessed via the OpenRouter API. The chatbot continuously interacted with users until the \"quit\" command was entered. The purpose was to demonstrate the integration of external AI models into a local application, leveraging API calls for real-time, high-quality responses without requiring local model training. Key Python libraries included requests for communication and json for data parsing. Prompt engineering techniques were applied to instruct the AI to return safe, general health information.\n",
    "# Overview\n",
    "The chatbot’s workflow began with setting up the Python environment and installing the requests library using pip install requests. The program used requests.post() to send JSON-formatted requests to the OpenRouter API endpoint, specifying the DeepSeek R1 model and user’s query. An API key handled authentication, while the \"HTTP-Referer\" and \"X-Title\" headers were optionally included for OpenRouter ranking purposes. The .json() method parsed the API response to extract the chatbot’s reply, which was displayed in the console. This process ran in a loop, allowing continuous conversation until the user decided to exit. Error handling was added to manage invalid responses, network issues, or other API-related errors. The API approach was chosen for its efficiency, as it allowed the use of an advanced pre-trained model without heavy local computation, ensuring fast and reliable outputs.\n",
    "# Summary\n",
    "This task successfully produced a fully functional health chatbot capable of engaging in continuous dialogue with users. It displayed Python, API integration, JSON handling, and conversational AI design. By leveraging the DeepSeek R1 model through the OpenRouter API, the chatbot delivered responsive, safe, and user-friendly interactions."
   ]
  },
  {
   "cell_type": "code",
   "execution_count": 4,
   "id": "7eeeaa8f-63a7-46eb-b93d-66d90b485920",
   "metadata": {},
   "outputs": [
    {
     "name": "stdout",
     "output_type": "stream",
     "text": [
      "General Health Query Chatbot (Type 'quit' to exit)\n",
      "--------------------------------------------------\n"
     ]
    },
    {
     "name": "stdin",
     "output_type": "stream",
     "text": [
      "Ask a health question:  causes of sour throat\n"
     ]
    },
    {
     "name": "stdout",
     "output_type": "stream",
     "text": [
      "\n",
      "Bot: The most common causes of a sore throat include:  \n",
      "\n",
      "1. **Viral infections** (most common cause):  \n",
      "   - Common cold or flu  \n",
      "   - COVID-19  \n",
      "   - Mononucleosis (mono)  \n",
      "   - Laryngitis  \n",
      "\n",
      "2. **Bacterial infections**:  \n",
      "   - Strep throat (Group A *Streptococcus*)  \n",
      "   - Tonsillitis  \n",
      "3. **Environmental irritants & other causes**:  \n",
      "   - Dry air (especially in winter)  \n",
      "   - Allergies (pollen, dust, pet dander)  \n",
      "   - Air pollution or smoke  \n",
      "   - Muscle strain (e.g., from shouting)  \n",
      "   - Postnasal drip (from colds/allergies)  \n",
      "   - Acid reflux/GERD (stomach acid irritating the throat)  \n",
      "\n",
      "**When to see a healthcare provider**:  \n",
      "Consult a doctor if your sore throat is severe, persists longer than a week, or is accompanied by:  \n",
      "- High fever (over 101°F/38.3°C)  \n",
      "- Difficulty breathing/swallowing  \n",
      "- Rash or swollen lymph nodes  \n",
      "- Blood in saliva/phlegm  \n",
      "- Persistent hoarseness  \n",
      "\n",
      "*Note:* Antibiotics only work for bacterial infections like strep throat—they won’t help viral sore throats. Rest, hydration, and over-the-counter remedies often ease symptoms. If you suspect strep or have concerning symptoms, seek professional care promptly. 🌡️💧\n",
      "--------------------------------------------------\n"
     ]
    },
    {
     "name": "stdin",
     "output_type": "stream",
     "text": [
      "Ask a health question:  provide diagnostics and prescibe medication treatment \n"
     ]
    },
    {
     "name": "stdout",
     "output_type": "stream",
     "text": [
      "\n",
      "Bot: I understand you're looking for medical advice, but I want to ensure your safety. As a friendly health assistant:\n",
      "\n",
      "1. **I cannot provide diagnostics** - Medical diagnosis requires a physical examination, medical history review, and often diagnostic tests that only licensed healthcare providers can perform.\n",
      "\n",
      "2. **I cannot prescribe medication** - Prescribing medications requires medical training, knowledge of your health history, and consideration of potential interactions and contraindications.\n",
      "\n",
      "**For your health needs, please:**\n",
      "- Consult with your doctor or healthcare provider\n",
      "- Visit a clinic for a proper examination\n",
      "- In urgent situations, go to urgent care or your nearest emergency room\n",
      "\n",
      "I'd be glad to provide general information about health topics, wellness strategies, or explain medical concepts in non-emergency situations. How else can I assist with health information today?\n",
      "--------------------------------------------------\n"
     ]
    },
    {
     "name": "stdin",
     "output_type": "stream",
     "text": [
      "Ask a health question:  suicide\n"
     ]
    },
    {
     "name": "stdout",
     "output_type": "stream",
     "text": [
      "This sounds serious. Please contact a medical professional or helpline immediately\n",
      "--------------------------------------------------\n"
     ]
    },
    {
     "name": "stdin",
     "output_type": "stream",
     "text": [
      "Ask a health question:  tell me about toyota corolla\n"
     ]
    },
    {
     "name": "stdout",
     "output_type": "stream",
     "text": [
      "\n",
      "Bot: I'm here to assist with health-related questions! Unfortunately, I can't provide information about the Toyota Corolla, as it falls outside the scope of health, medicine, wellness, or fitness.  \n",
      "\n",
      "If you have questions about physical wellness, nutrition, exercise, mental health, common symptoms, or managing health conditions, I'd be happy to help! What would you like to know? 😊\n",
      "--------------------------------------------------\n"
     ]
    },
    {
     "name": "stdin",
     "output_type": "stream",
     "text": [
      "Ask a health question:  prescibe medication for breast cancer\n"
     ]
    },
    {
     "name": "stdout",
     "output_type": "stream",
     "text": [
      "\n",
      "Bot: I understand you're asking about breast cancer medication, but as an assistant I **cannot prescribe medication** - only licensed healthcare providers can determine appropriate treatments. \n",
      "\n",
      "Breast cancer treatment is highly personalized and may involve:\n",
      "- Chemotherapy\n",
      "- Hormone therapy (tamoxifen, aromatase inhibitors)\n",
      "- Targeted drugs (trastuzumab, pertuzumab, CDK4/6 inhibitors)\n",
      "- Immunotherapy \n",
      "- Radiation or surgery\n",
      "\n",
      "**Please consult immediately with:**\n",
      "1. An oncologist who knows your full medical history\n",
      "2. Your pathology report details (hormone receptor status, HER2 results)\n",
      "3. Your stage and overall health \n",
      "\n",
      "Treatments are tailored based on cancer characteristics and your unique situation. For emergency concerns, go to urgent care or call emergency services.\n",
      "\n",
      "👉 Visit cancer.gov or call NCI at 1-800-422-6237 for guidance on finding specialists and clinical trials. Your healthcare team is essential for safe, effective treatment decisions.\n",
      "--------------------------------------------------\n"
     ]
    },
    {
     "name": "stdin",
     "output_type": "stream",
     "text": [
      "Ask a health question:  \n"
     ]
    },
    {
     "name": "stdout",
     "output_type": "stream",
     "text": [
      "\n",
      "Bot: I understand, and I'm ready to assist! As a friendly and safe medical assistant, I focus **only on health, medicine, wellness, and fitness** and provide **general information and guidance.**\n",
      "\n",
      "Here's a quick guide to what I can and cannot do:\n",
      "\n",
      "**What I CAN do:**\n",
      "*   Provide general information about medical conditions, symptoms, treatments, procedures, and medications.\n",
      "*   Explain common health and wellness concepts (nutrition, exercise, sleep, mental well-being).\n",
      "*   Offer evidence-based tips for healthy living and disease prevention.\n",
      "*   Clarify medical terminology.\n",
      "*   Suggest lifestyle modifications that often support good health.\n",
      "*   Advise on **when and why** it's crucial to see a doctor or seek professional help.\n",
      "\n",
      "**What I CANNOT do:**\n",
      "*   **Provide diagnoses:** I cannot tell you what specific medical condition you or someone else might have.\n",
      "*   **Offer personal medical advice:** I cannot give advice tailored to your specific medical history or current situation (e.g., \"Should *I* take this medicine?\", \"What does *this rash* look like to you?\").\n",
      "*   **Interpret personal test results:** I cannot analyze your specific lab results, scan reports, or readings.\n",
      "*   **Replace a healthcare professional:** I cannot provide definitive answers or medical care.\n",
      "*   **Handle emergencies:** I will **always advise you to seek immediate professional help (call emergency services/911 or go to the ER)** if a situation sounds dangerous (chest pain, severe injury, difficulty breathing, suspected stroke, poisoning, suicidal thoughts, etc.).\n",
      "*   **Answer non-health-related questions:** I will politely refuse and remind you of my health-focus scope.\n",
      "\n",
      "**Let me know what health, wellness, or fitness topic you'd like to discuss! What are you curious about today?**\n",
      "--------------------------------------------------\n"
     ]
    },
    {
     "name": "stdin",
     "output_type": "stream",
     "text": [
      "Ask a health question:  quit\n"
     ]
    },
    {
     "name": "stdout",
     "output_type": "stream",
     "text": [
      "Goodbye! Stay healthy and take care\n"
     ]
    }
   ],
   "source": [
    "# General Health Query Chatbot\n",
    "# Using OpenRouter API with DeepSeek free model\n",
    "import requests\n",
    "import json\n",
    "\n",
    "# STEP 1: API Key \n",
    "# OpenRouter API key used from https://openrouter.ai/keys\n",
    "\n",
    "API_KEY = \"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\"\n",
    "\n",
    "# STEP 2: API endpoint\n",
    "# URL to send requests to OpenRouter\n",
    "\n",
    "API_URL = \"https://openrouter.ai/api/v1/chat/completions\"\n",
    "\n",
    "# STEP 3: Function to send health question to AI\n",
    "\n",
    "def ask_health_bot(question):\n",
    "#Sends a health-related question to the AI chatbot and returns the response\n",
    "#The AI is instructed to give safe, friendly, and general health information\n",
    "   \n",
    "    headers = {\n",
    "        \"Authorization\": f\"Bearer {API_KEY}\",  # Authentication header\n",
    "        \"Content-Type\": \"application/json\"     # Data format\n",
    "    }\n",
    "\n",
    "      # Request prompt to the AI model\n",
    "    data = {\n",
    "        \"model\": \"deepseek/deepseek-r1-0528:free\",  # AI model used is free deepseek r1\n",
    "        \"messages\": [\n",
    "            {\n",
    "                \"role\": \"system\",\n",
    "                \"content\": (\n",
    "                    \"You are a friendly and safe medical assistant. \"\n",
    "                    \"Only give general health information, not a medical diagnosis. \"\n",
    "                    \"If asked about emergencies or dangerous situations, advise the user to seek professional help immediately.\"\n",
    "                    \"You are a helpful health assistant. Only answer questions about health, medicine, wellness, and fitness. If the user asks something unrelated, politely refuse and say you can only answer health-related questions.\"\n",
    "                )\n",
    "            },\n",
    "            {\n",
    "                \"role\": \"user\",\n",
    "                \"content\": question\n",
    "            }\n",
    "        ]\n",
    "    }\n",
    "\n",
    "# Send POST request to API\n",
    "    response = requests.post(API_URL, headers=headers, data=json.dumps(data))\n",
    "\n",
    "       # Process and return AI's response\n",
    "    if response.status_code == 200:\n",
    "        result = response.json()\n",
    "        return result[\"choices\"][0][\"message\"][\"content\"]\n",
    "    else:\n",
    "        return f\"Error {response.status_code}: {response.text}\"\n",
    "\n",
    "# STEP 4: Chat loop\n",
    "\n",
    "print(\"General Health Query Chatbot (Type 'quit' to exit)\")\n",
    "print(\"-\" * 50)\n",
    "\n",
    "# List of dangerous/self-harm related keywords for safety filtering\n",
    "dangerous_terms = [\"suicide\", \"self harm\", \"kill myself\", \"overdose\", \"poisoning\", \"cut myself\"]\n",
    "    \n",
    "\n",
    "# Continuous chat until user types quit\n",
    "while True:\n",
    "# Get input from user\n",
    "    user_input = input(\"Ask a health question: \")\n",
    "    \n",
    "      # Exit condition\n",
    "    if user_input.lower() == \"quit\":\n",
    "        print(\"Goodbye! Stay healthy and take care\")\n",
    "        break\n",
    "\n",
    "# Safety check used to detect if the query contains harmful or self-harm termss\n",
    "    if any(term in user_input.lower() for term in dangerous_terms):\n",
    "        print(\"This sounds serious. Please contact a medical professional or helpline immediately\")\n",
    "        print(\"-\" * 50)\n",
    "        continue\n",
    "# Get AI's answer\n",
    "    answer = ask_health_bot(user_input)\n",
    "\n",
    "# Print bot's reply\n",
    "    print(\"\\nBot:\", answer)\n",
    "    print(\"-\" * 50)\n"
   ]
  },
  {
   "cell_type": "code",
   "execution_count": null,
   "id": "ce95e9fc-9da1-4716-8c11-d875eb3c449d",
   "metadata": {},
   "outputs": [],
   "source": []
  }
 ],
 "metadata": {
  "kernelspec": {
   "display_name": "Python 3 (ipykernel)",
   "language": "python",
   "name": "python3"
  },
  "language_info": {
   "codemirror_mode": {
    "name": "ipython",
    "version": 3
   },
   "file_extension": ".py",
   "mimetype": "text/x-python",
   "name": "python",
   "nbconvert_exporter": "python",
   "pygments_lexer": "ipython3",
   "version": "3.12.6"
  }
 },
 "nbformat": 4,
 "nbformat_minor": 5
}
